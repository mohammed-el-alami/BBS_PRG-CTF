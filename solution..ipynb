{
 "cells": [
  {
   "cell_type": "code",
   "execution_count": 1,
   "id": "e2987b66-745b-4f2f-9c87-7e69b709010f",
   "metadata": {},
   "outputs": [],
   "source": [
    "# Read encrypted flag from file\n",
    "with open(\"encrypted_flag.txt\", \"r\") as f:\n",
    "    encrypted_flag = f.readline().strip()"
   ]
  },
  {
   "cell_type": "code",
   "execution_count": 2,
   "id": "6dffb422-07c0-4a48-8ed6-bc35bb464cff",
   "metadata": {},
   "outputs": [],
   "source": [
    "# Since the flag starts with \"DEFENSYS{\", we can deduce the first 72 bits of the key. \n",
    "flag_p = \"DEFENSYS{\".encode('utf-8').hex()\n",
    "key_p = ''.join(f\"{int(flag_p[i], 16) ^ int(encrypted_flag[i], 16):01x}\" for i in range(len(flag_p)))"
   ]
  },
  {
   "cell_type": "code",
   "execution_count": 3,
   "id": "7902a2e3-2f61-43bc-a74c-b2e62d784c5c",
   "metadata": {},
   "outputs": [
    {
     "name": "stdout",
     "output_type": "stream",
     "text": [
      "100101010000100111011101001011011100101010000100111011101001011011100101\n"
     ]
    }
   ],
   "source": [
    "# Convert key_p to binary \n",
    "key_p_bin = ''.join(f\"{int(c, 16):04b}\" for c in key_p)\n",
    "print(key_p_bin)"
   ]
  },
  {
   "cell_type": "code",
   "execution_count": 4,
   "id": "5d1563b2-fc1b-4510-9954-ca26ef0e8ad5",
   "metadata": {},
   "outputs": [
    {
     "name": "stdout",
     "output_type": "stream",
     "text": [
      "9509dd2dca84ee96e542774b72a13ba5b9509dd2dca84ee96e542774b72a13ba5b9509dd2dca84ee96e5\n"
     ]
    }
   ],
   "source": [
    "# We notice that the first 33 bits repeat, which means the key has a period of 33 bits\n",
    "# Repeat the 33-bit sequence to create a 336-bit key\n",
    "key_33bits = \"100101010000100111011101001011011\" \n",
    "key_336bits = (key_33bits * ((336 // len(key_33bits)) + 1))[:336]  \n",
    "# Convert the 336-bit key to hexadecimal\n",
    "key = ''.join(f\"{int(key_336bits[i:i+4], 2):01x}\" for i in range(0, 336, 4))\n",
    "print(key)"
   ]
  },
  {
   "cell_type": "code",
   "execution_count": 5,
   "id": "302a6668-f483-493a-9e44-272ce4635acc",
   "metadata": {},
   "outputs": [
    {
     "name": "stdout",
     "output_type": "stream",
     "text": [
      "DEFENSYS{o%1*_kKk6Zy/!#M.aAa_eRS3fL0=1yZQ}\n"
     ]
    }
   ],
   "source": [
    "# Decrypt the flag using XOR\n",
    "flag_hex = ''.join(f\"{int(encrypted_flag[i], 16) ^ int(key[i], 16):01x}\" for i in range(len(encrypted_flag)))\n",
    "flag = bytes.fromhex(flag_hex).decode('utf-8')\n",
    "print(flag)"
   ]
  },
  {
   "cell_type": "code",
   "execution_count": null,
   "id": "9d0c1deb-06f0-4b6d-b98b-c2e9e3495b32",
   "metadata": {},
   "outputs": [],
   "source": []
  }
 ],
 "metadata": {
  "kernelspec": {
   "display_name": "Python 3 (ipykernel)",
   "language": "python",
   "name": "python3"
  },
  "language_info": {
   "codemirror_mode": {
    "name": "ipython",
    "version": 3
   },
   "file_extension": ".py",
   "mimetype": "text/x-python",
   "name": "python",
   "nbconvert_exporter": "python",
   "pygments_lexer": "ipython3",
   "version": "3.13.0"
  }
 },
 "nbformat": 4,
 "nbformat_minor": 5
}
